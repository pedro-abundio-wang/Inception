{
 "cells": [
  {
   "cell_type": "code",
   "execution_count": null,
   "id": "stupid-resident",
   "metadata": {},
   "outputs": [],
   "source": [
    "import tensorflow as tf\n",
    "from tensorflow import keras\n",
    "from ResNetV1Block import identity_block\n",
    "from ResNetV1Block import identity_block_downsampling\n",
    "\n",
    "\n",
    "def ResNet18V1(\n",
    "        input_shape=(224, 224, 3),\n",
    "        classes=1000,\n",
    "        classifier_activation='softmax'):\n",
    "    \n",
    "    img_input = keras.layers.Input(shape=input_shape, name='input')\n",
    "\n",
    "    # stage1\n",
    "    x = keras.layers.Conv2D(filters=64, kernel_size=(7, 7), strides=(2, 2), padding='same', name='stage1_conv')(img_input)\n",
    "    x = keras.layers.BatchNormalization(axis=-1, name='stage1_bn')(x)\n",
    "    x = keras.layers.ReLU(name='stage1_relu')(x)\n",
    "    \n",
    "    # stage2\n",
    "    x = keras.layers.MaxPool2D(pool_size=(3, 3), strides=(2, 2), padding='same', name='stage2_pool')(x)\n",
    "    x = identity_block(x, filters=64, stage='stage2', block='a')\n",
    "    x = identity_block(x, filters=64, stage='stage2', block='b')\n",
    "\n",
    "    # stage3\n",
    "    x = identity_block_downsampling(x, filters=128, stage='stage3', block='a')\n",
    "    x = identity_block(x, filters=128, stage='stage3', block='b')\n",
    "    \n",
    "    # stage4\n",
    "    x = identity_block_downsampling(x, filters=256, stage='stage4', block='a')\n",
    "    x = identity_block(x, filters=256, stage='stage4', block='b')\n",
    "    \n",
    "    # stage5\n",
    "    x = identity_block_downsampling(x, filters=512, stage='stage5', block='a')\n",
    "    x = identity_block(x, filters=512, stage='stage5', block='b')\n",
    "    \n",
    "    # classifier\n",
    "    x = keras.layers.GlobalAveragePooling2D(name='avg_pool')(x)\n",
    "    x = keras.layers.Dense(units=classes, activation=classifier_activation, name='predictions')(x)\n",
    "\n",
    "    # Create model.\n",
    "    inputs = img_input\n",
    "    model = keras.Model(inputs=inputs, outputs=x, name='resnet18_v1')\n",
    "\n",
    "    return model"
   ]
  },
  {
   "cell_type": "code",
   "execution_count": null,
   "id": "norwegian-consequence",
   "metadata": {
    "scrolled": false
   },
   "outputs": [],
   "source": [
    "model = ResNet18V1()\n",
    "model.summary()"
   ]
  },
  {
   "cell_type": "code",
   "execution_count": null,
   "id": "assigned-orlando",
   "metadata": {
    "scrolled": false
   },
   "outputs": [],
   "source": [
    "keras.utils.plot_model(model, \"resnet18_v1.png\", show_shapes=True)"
   ]
  }
 ],
 "metadata": {
  "kernelspec": {
   "display_name": "Python 3",
   "language": "python",
   "name": "python3"
  },
  "language_info": {
   "codemirror_mode": {
    "name": "ipython",
    "version": 3
   },
   "file_extension": ".py",
   "mimetype": "text/x-python",
   "name": "python",
   "nbconvert_exporter": "python",
   "pygments_lexer": "ipython3",
   "version": "3.8.2"
  }
 },
 "nbformat": 4,
 "nbformat_minor": 5
}
