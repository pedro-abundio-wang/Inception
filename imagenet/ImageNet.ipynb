{
 "cells": [
  {
   "cell_type": "markdown",
   "id": "crucial-tomato",
   "metadata": {},
   "source": [
    "# Download imagenet"
   ]
  },
  {
   "cell_type": "markdown",
   "id": "unable-africa",
   "metadata": {},
   "source": [
    "ImageNet: http://www.image-net.org/challenges/LSVRC/\n",
    "\n",
    "ILSVRC 2015 devkit: http://image-net.org/challenges/LSVRC/2015/downloads\n",
    "\n",
    "Academic Torrents: https://academictorrents.com/collection/imagenet-lsvrc-2015"
   ]
  },
  {
   "cell_type": "markdown",
   "id": "second-batman",
   "metadata": {},
   "source": [
    "# Extract files"
   ]
  },
  {
   "cell_type": "code",
   "execution_count": null,
   "id": "aware-screening",
   "metadata": {},
   "outputs": [],
   "source": [
    "!tar -xvf /data/image-net/ILSVRC2012_img_train.tar -C /data/image-net/ILSVRC2012_img_train"
   ]
  },
  {
   "cell_type": "code",
   "execution_count": null,
   "id": "fluid-layout",
   "metadata": {},
   "outputs": [],
   "source": [
    "import pathlib\n",
    "from tqdm import tqdm\n",
    "\n",
    "imagenet_train_dir = pathlib.Path('/data/image-net/ILSVRC2012_img_train')\n",
    "\n",
    "for file in tqdm(list(imagenet_train_dir.glob(\"*.tar\"))):\n",
    "    class_name = str(file).split('/')[-1].split('.')[0]\n",
    "    tar = tarfile.open(str(file))\n",
    "    tar.extractall(path='/data/image-net/ILSVRC2012_img_train/' + class_name)\n",
    "    tar.close()"
   ]
  },
  {
   "cell_type": "code",
   "execution_count": null,
   "id": "spatial-poster",
   "metadata": {},
   "outputs": [],
   "source": [
    "!tar -xvf /data/image-net/ILSVRC2012_img_val.tar -C /data/image-net/ILSVRC2012_img_val"
   ]
  },
  {
   "cell_type": "code",
   "execution_count": null,
   "id": "pretty-first",
   "metadata": {},
   "outputs": [],
   "source": [
    "!tar -xvf /data/image-net/ILSVRC2012_img_test.tar -C /data/image-net/ILSVRC2012_img_test"
   ]
  },
  {
   "cell_type": "markdown",
   "id": "inclusive-romantic",
   "metadata": {},
   "source": [
    "# WordNet"
   ]
  },
  {
   "cell_type": "code",
   "execution_count": null,
   "id": "documentary-sally",
   "metadata": {},
   "outputs": [],
   "source": [
    "!head -n 10 /data/image-net/ILSVRC2015/devkit/data/map_clsloc.txt"
   ]
  },
  {
   "cell_type": "markdown",
   "id": "artificial-lying",
   "metadata": {},
   "source": [
    "# Validation ground true"
   ]
  },
  {
   "cell_type": "code",
   "execution_count": null,
   "id": "mobile-phrase",
   "metadata": {},
   "outputs": [],
   "source": [
    "# ground true (WordNet ID)\n",
    "!head -n 10 /data/image-net/imagenet_2012_validation_synset_labels.txt"
   ]
  },
  {
   "cell_type": "markdown",
   "id": "diagnostic-incentive",
   "metadata": {},
   "source": [
    "# Validation blacklist"
   ]
  },
  {
   "cell_type": "code",
   "execution_count": null,
   "id": "reliable-feedback",
   "metadata": {},
   "outputs": [],
   "source": [
    "# blacklist (WordNet ID)\n",
    "!head -n 10 /data/image-net/ILSVRC2015_clsloc_validation_blacklist.txt"
   ]
  },
  {
   "cell_type": "markdown",
   "id": "eastern-morning",
   "metadata": {},
   "source": [
    "# Imagenet to TFRecord\n",
    "\n",
    "`imagenet_to_tfrecord.py`"
   ]
  },
  {
   "cell_type": "markdown",
   "id": "third-tutorial",
   "metadata": {},
   "source": [
    "# Load Imagenet\n",
    "\n",
    "`load_imagenet.py`"
   ]
  },
  {
   "cell_type": "markdown",
   "id": "premium-notification",
   "metadata": {},
   "source": [
    "Done!"
   ]
  }
 ],
 "metadata": {
  "kernelspec": {
   "display_name": "Python 3",
   "language": "python",
   "name": "python3"
  },
  "language_info": {
   "codemirror_mode": {
    "name": "ipython",
    "version": 3
   },
   "file_extension": ".py",
   "mimetype": "text/x-python",
   "name": "python",
   "nbconvert_exporter": "python",
   "pygments_lexer": "ipython3",
   "version": "3.8.2"
  }
 },
 "nbformat": 4,
 "nbformat_minor": 5
}
