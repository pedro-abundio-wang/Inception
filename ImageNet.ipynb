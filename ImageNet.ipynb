{
 "cells": [
  {
   "cell_type": "markdown",
   "id": "crucial-tomato",
   "metadata": {},
   "source": [
    "# ImageNet"
   ]
  },
  {
   "cell_type": "markdown",
   "id": "unable-africa",
   "metadata": {},
   "source": [
    "ImageNet: http://www.image-net.org/challenges/LSVRC/\n",
    "\n",
    "Academic Torrents: https://academictorrents.com/collection/imagenet-lsvrc-2015"
   ]
  },
  {
   "cell_type": "markdown",
   "id": "million-homeless",
   "metadata": {},
   "source": [
    "# Preparing the ImageNet Dataset"
   ]
  },
  {
   "cell_type": "markdown",
   "id": "nuclear-armor",
   "metadata": {},
   "source": [
    "## Train Directory"
   ]
  },
  {
   "cell_type": "code",
   "execution_count": 9,
   "id": "planned-withdrawal",
   "metadata": {},
   "outputs": [
    {
     "name": "stdout",
     "output_type": "stream",
     "text": [
      "total 144434176\r\n",
      "-rw-r--r-- 1 pedro pedro 157368320 Jun 14  2012 n01440764.tar\r\n",
      "-rw-r--r-- 1 pedro pedro 133662720 Jun 14  2012 n01443537.tar\r\n",
      "-rw-r--r-- 1 pedro pedro 129822720 Jun 14  2012 n01484850.tar\r\n",
      "-rw-r--r-- 1 pedro pedro 114104320 Jun 14  2012 n01491361.tar\r\n",
      "-rw-r--r-- 1 pedro pedro 138905600 Jun 14  2012 n01494475.tar\r\n",
      "-rw-r--r-- 1 pedro pedro 139069440 Jun 14  2012 n01496331.tar\r\n",
      "-rw-r--r-- 1 pedro pedro 178370560 Jun 14  2012 n01498041.tar\r\n",
      "-rw-r--r-- 1 pedro pedro 204011520 Jun 14  2012 n01514668.tar\r\n",
      "-rw-r--r-- 1 pedro pedro 207042560 Jun 14  2012 n01514859.tar\r\n",
      "ls: write error: Broken pipe\r\n"
     ]
    }
   ],
   "source": [
    "!ls -l ~/image-net/ILSVR2012_img_train | head -n 10"
   ]
  },
  {
   "cell_type": "code",
   "execution_count": 7,
   "id": "cardiovascular-chair",
   "metadata": {},
   "outputs": [
    {
     "name": "stdout",
     "output_type": "stream",
     "text": [
      "total 6649252\n",
      "-rw-r--r-- 1 pedro pedro  109527 Jun 13  2012 ILSVRC2012_val_00000001.JPEG\n",
      "-rw-r--r-- 1 pedro pedro  140296 Jun 13  2012 ILSVRC2012_val_00000002.JPEG\n",
      "-rw-r--r-- 1 pedro pedro  122660 Jun 13  2012 ILSVRC2012_val_00000003.JPEG\n",
      "-rw-r--r-- 1 pedro pedro   84885 Jun 13  2012 ILSVRC2012_val_00000004.JPEG\n",
      "-rw-r--r-- 1 pedro pedro  130340 Jun 13  2012 ILSVRC2012_val_00000005.JPEG\n",
      "-rw-r--r-- 1 pedro pedro  151397 Jun 13  2012 ILSVRC2012_val_00000006.JPEG\n",
      "-rw-r--r-- 1 pedro pedro  165863 Jun 13  2012 ILSVRC2012_val_00000007.JPEG\n",
      "-rw-r--r-- 1 pedro pedro  107423 Jun 13  2012 ILSVRC2012_val_00000008.JPEG\n",
      "-rw-r--r-- 1 pedro pedro  114708 Jun 13  2012 ILSVRC2012_val_00000009.JPEG\n",
      "ls: write error: Broken pipe\n"
     ]
    }
   ],
   "source": [
    "!ls -l ~/image-net/ILSVR2012_img_val | head -n 10"
   ]
  },
  {
   "cell_type": "code",
   "execution_count": null,
   "id": "documentary-sally",
   "metadata": {},
   "outputs": [],
   "source": []
  }
 ],
 "metadata": {
  "kernelspec": {
   "display_name": "Python 3",
   "language": "python",
   "name": "python3"
  },
  "language_info": {
   "codemirror_mode": {
    "name": "ipython",
    "version": 3
   },
   "file_extension": ".py",
   "mimetype": "text/x-python",
   "name": "python",
   "nbconvert_exporter": "python",
   "pygments_lexer": "ipython3",
   "version": "3.6.8"
  }
 },
 "nbformat": 4,
 "nbformat_minor": 5
}
